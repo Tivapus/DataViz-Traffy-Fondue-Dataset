{
 "cells": [
  {
   "cell_type": "code",
   "execution_count": 2,
   "id": "25e02ca5",
   "metadata": {},
   "outputs": [],
   "source": [
    "import pandas as pd\n",
    "import numpy as np"
   ]
  },
  {
   "cell_type": "code",
   "execution_count": null,
   "id": "fd1ecc50",
   "metadata": {},
   "outputs": [
    {
     "data": {
      "text/plain": [
       "Index(['ticket_id', 'type', 'organization', 'comment', 'coords', 'address',\n",
       "       'subdistrict', 'district', 'province', 'timestamp', 'state',\n",
       "       'count_reopen', 'last_activity', 'budget', 'population',\n",
       "       'temperature_2m', 'relative_humidity_2m', 'apparent_temperature',\n",
       "       'precipitation', 'dew_point_2m', 'rain'],\n",
       "      dtype='object')"
      ]
     },
     "execution_count": 3,
     "metadata": {},
     "output_type": "execute_result"
    }
   ],
   "source": [
    "df = pd.read_csv('C:/00.DsDe/project/finalDataviz.py')\n",
    "\n",
    "df.columns"
   ]
  },
  {
   "cell_type": "code",
   "execution_count": null,
   "id": "4779a756",
   "metadata": {},
   "outputs": [
    {
     "data": {
      "text/plain": [
       "population\n",
       "153792    12617\n",
       "90446      8160\n",
       "182984     7981\n",
       "80830      7654\n",
       "40844      7551\n",
       "99729      7432\n",
       "141489     6807\n",
       "185369     6406\n",
       "72648      6197\n",
       "192253     6054\n",
       "66279      5914\n",
       "43914      5840\n",
       "184805     5805\n",
       "111052     5733\n",
       "122676     5601\n",
       "41646      5523\n",
       "83493      5447\n",
       "119431     5215\n",
       "178350     5168\n",
       "114275     4665\n",
       "99591      4586\n",
       "138050     4583\n",
       "65275      4565\n",
       "87475      4512\n",
       "74114      4381\n",
       "209120     4324\n",
       "104478     4322\n",
       "122070     4253\n",
       "101802     4176\n",
       "86155      4151\n",
       "39310      4073\n",
       "181367     4064\n",
       "79095      3963\n",
       "141030     3962\n",
       "208928     3771\n",
       "155243     3691\n",
       "86290      3621\n",
       "100360     3301\n",
       "96211      3081\n",
       "78602      3017\n",
       "166289     3011\n",
       "143330     2949\n",
       "95523      2408\n",
       "101246     2362\n",
       "123761     2324\n",
       "79228      2294\n",
       "66347      2239\n",
       "76590      2057\n",
       "61579      1942\n",
       "20168      1549\n",
       "Name: count, dtype: int64"
      ]
     },
     "execution_count": 4,
     "metadata": {},
     "output_type": "execute_result"
    }
   ],
   "source": [
    "df['population'].value_counts()"
   ]
  },
  {
   "cell_type": "code",
   "execution_count": 7,
   "id": "fb4d96a4",
   "metadata": {},
   "outputs": [
    {
     "name": "stdout",
     "output_type": "stream",
     "text": [
      "(235302, 21)\n",
      "ticket_id                object\n",
      "type                     object\n",
      "organization             object\n",
      "comment                  object\n",
      "coords                   object\n",
      "address                  object\n",
      "subdistrict              object\n",
      "district                 object\n",
      "province                 object\n",
      "timestamp                object\n",
      "state                    object\n",
      "count_reopen              int64\n",
      "last_activity            object\n",
      "budget                    int64\n",
      "population                int64\n",
      "temperature_2m          float64\n",
      "relative_humidity_2m    float64\n",
      "apparent_temperature    float64\n",
      "precipitation           float64\n",
      "dew_point_2m            float64\n",
      "rain                    float64\n",
      "dtype: object\n"
     ]
    }
   ],
   "source": [
    "print(df.shape)\n",
    "print(df.dropna(subset=['coords']).dtypes)"
   ]
  },
  {
   "cell_type": "code",
   "execution_count": 8,
   "id": "994fab0d",
   "metadata": {},
   "outputs": [
    {
     "data": {
      "text/plain": [
       "Index(['ticket_id', 'type', 'organization', 'comment', 'address',\n",
       "       'subdistrict', 'district', 'province', 'timestamp', 'state',\n",
       "       'count_reopen', 'last_activity', 'budget', 'population',\n",
       "       'temperature_2m', 'relative_humidity_2m', 'apparent_temperature',\n",
       "       'precipitation', 'dew_point_2m', 'rain', 'longitude', 'latitude'],\n",
       "      dtype='object')"
      ]
     },
     "execution_count": 8,
     "metadata": {},
     "output_type": "execute_result"
    }
   ],
   "source": [
    "df['coords'] = df['coords'].str.strip('()')  # ลบวงเล็บออก\n",
    "df[['longitude', 'latitude']] = df['coords'].str.split(',', expand=True).astype(float)\n",
    "\n",
    "df.drop(columns='coords',inplace=True)\n",
    "\n",
    "df.columns"
   ]
  },
  {
   "cell_type": "code",
   "execution_count": 9,
   "id": "ab98d071",
   "metadata": {},
   "outputs": [
    {
     "data": {
      "text/plain": [
       "Series([], Name: count, dtype: int64)"
      ]
     },
     "execution_count": 9,
     "metadata": {},
     "output_type": "execute_result"
    }
   ],
   "source": [
    "df[df['type']==None].value_counts()"
   ]
  },
  {
   "cell_type": "code",
   "execution_count": 1,
   "id": "c05c9d38",
   "metadata": {},
   "outputs": [
    {
     "ename": "NameError",
     "evalue": "name 'df' is not defined",
     "output_type": "error",
     "traceback": [
      "\u001b[1;31m---------------------------------------------------------------------------\u001b[0m",
      "\u001b[1;31mNameError\u001b[0m                                 Traceback (most recent call last)",
      "Cell \u001b[1;32mIn[1], line 1\u001b[0m\n\u001b[1;32m----> 1\u001b[0m \u001b[43mdf\u001b[49m[\u001b[38;5;124m'\u001b[39m\u001b[38;5;124mstate\u001b[39m\u001b[38;5;124m'\u001b[39m]\u001b[38;5;241m.\u001b[39mhead\n",
      "\u001b[1;31mNameError\u001b[0m: name 'df' is not defined"
     ]
    }
   ],
   "source": [
    "df['state'].head"
   ]
  }
 ],
 "metadata": {
  "kernelspec": {
   "display_name": "DSDE",
   "language": "python",
   "name": "python3"
  },
  "language_info": {
   "codemirror_mode": {
    "name": "ipython",
    "version": 3
   },
   "file_extension": ".py",
   "mimetype": "text/x-python",
   "name": "python",
   "nbconvert_exporter": "python",
   "pygments_lexer": "ipython3",
   "version": "3.12.8"
  }
 },
 "nbformat": 4,
 "nbformat_minor": 5
}
